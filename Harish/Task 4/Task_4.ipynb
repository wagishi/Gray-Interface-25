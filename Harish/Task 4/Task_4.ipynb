{
 "cells": [
  {
   "cell_type": "code",
   "execution_count": 18,
   "id": "175dad8e",
   "metadata": {},
   "outputs": [],
   "source": [
    "import numpy as np"
   ]
  },
  {
   "cell_type": "code",
   "execution_count": 19,
   "id": "3d2a9829",
   "metadata": {},
   "outputs": [],
   "source": [
    "# inputs = x1, x2\n",
    "# weights = w1, w2,w3\n",
    "# bias = b_h, b_o"
   ]
  },
  {
   "cell_type": "markdown",
   "id": "227bb04e",
   "metadata": {},
   "source": [
    "<h4>Activation function"
   ]
  },
  {
   "cell_type": "code",
   "execution_count": 20,
   "id": "dbf7f145",
   "metadata": {},
   "outputs": [],
   "source": [
    "#Sigmoid function\n",
    "def sigmoid (x):\n",
    "    return 1/(1+np.exp(-x))"
   ]
  },
  {
   "cell_type": "code",
   "execution_count": 21,
   "id": "49259cf6",
   "metadata": {},
   "outputs": [],
   "source": [
    "#dsigmoid function\n",
    "def dsigmoid (x):\n",
    "    s = sigmoid(x)\n",
    "    return x * (1 - x)"
   ]
  },
  {
   "cell_type": "markdown",
   "id": "8ba1912f",
   "metadata": {},
   "source": [
    "<h5> Layers"
   ]
  },
  {
   "cell_type": "code",
   "execution_count": 22,
   "id": "54d26a8f",
   "metadata": {},
   "outputs": [],
   "source": [
    "def hidden_layer():\n",
    "    z_h = w1 * x1 + w2 * x2 + b_h\n",
    "    h = sigmoid(z_h)\n",
    "    return h\n"
   ]
  },
  {
   "cell_type": "code",
   "execution_count": 23,
   "id": "22e0089f",
   "metadata": {},
   "outputs": [],
   "source": [
    "def output_layer():\n",
    "    z_o = w3*h + b_o\n",
    "    y_hat = sigmoid(z_o)\n",
    "    return y_hat\n"
   ]
  },
  {
   "cell_type": "markdown",
   "id": "3a4f8c0c",
   "metadata": {},
   "source": [
    "<h5> Forward pass"
   ]
  },
  {
   "cell_type": "code",
   "execution_count": 24,
   "id": "174c3585",
   "metadata": {},
   "outputs": [],
   "source": [
    "def forward_pass(x1,x2,weights,biases):\n",
    "    w1,w2,w3 = weights\n",
    "    b_h, b_o = biases\n",
    "\n",
    "    #hidden layer\n",
    "    z_h = w1 * x1 + w2 * x2 + b_h\n",
    "    h = sigmoid(z_h)\n",
    "\n",
    "    #output layer\n",
    "    z_o = w3*h + b_o\n",
    "    y_hat = sigmoid(z_o)\n",
    "    return y_hat , h"
   ]
  },
  {
   "cell_type": "markdown",
   "id": "1ed00d85",
   "metadata": {},
   "source": [
    "<h5>First Testing"
   ]
  },
  {
   "cell_type": "code",
   "execution_count": 25,
   "id": "c77d1cc1",
   "metadata": {},
   "outputs": [],
   "source": [
    "weights = [0.5, -0.2, 0.7]\n",
    "bias = [0.1,0.05]"
   ]
  },
  {
   "cell_type": "code",
   "execution_count": 26,
   "id": "0ab2077a",
   "metadata": {},
   "outputs": [],
   "source": [
    "x1 = 2\n",
    "x2 = 3"
   ]
  },
  {
   "cell_type": "code",
   "execution_count": 27,
   "id": "2083673a",
   "metadata": {},
   "outputs": [],
   "source": [
    "yhat, h = forward_pass(x1, x2, weights, bias)"
   ]
  },
  {
   "cell_type": "code",
   "execution_count": 28,
   "id": "f76f071b",
   "metadata": {},
   "outputs": [
    {
     "name": "stdout",
     "output_type": "stream",
     "text": [
      "Input: (2, 3)\n",
      "Hidden Activation: 0.6224593312018545\n",
      "Predicted Output: 0.6190980179243388\n"
     ]
    }
   ],
   "source": [
    "print(\"Input:\", (x1, x2))\n",
    "print(\"Hidden Activation:\", h)\n",
    "print(\"Predicted Output:\", yhat)"
   ]
  },
  {
   "cell_type": "markdown",
   "id": "5ad42809",
   "metadata": {},
   "source": [
    "### Week 2"
   ]
  },
  {
   "cell_type": "code",
   "execution_count": 29,
   "id": "adbe301a",
   "metadata": {},
   "outputs": [],
   "source": [
    "def train_single_node(X, Y, epochs, lr, seed=42):\n",
    "    rng = np.random.default_rng(seed)\n",
    "    w1, w2, w3 = rng.standard_normal(), rng.standard_normal(), rng.standard_normal()\n",
    "    b_h, b_o = rng.standard_normal(), rng.standard_normal()\n",
    "    n = len(X)\n",
    "    for epoch in range(epochs):\n",
    "        total_loss = 0.0\n",
    "        for (x1, x2), y in zip(X, Y):\n",
    "\n",
    "            # Forward\n",
    "            z_h = w1*x1 + w2*x2 + b_h\n",
    "            h = sigmoid(z_h)\n",
    "            y_hat = w3*h + b_o\n",
    "\n",
    "            # Loss\n",
    "            loss = (y - y_hat)**2\n",
    "            total_loss += loss\n",
    "\n",
    "            # Backprop\n",
    "            delta_o = (y_hat - y) # dL/dy_hat\n",
    "            dw3 = delta_o * h\n",
    "            db_o = delta_o\n",
    "            delta_h = delta_o * w3 * dsigmoid(z_h)\n",
    "            dw1 = delta_h * x1\n",
    "            dw2 = delta_h * x2\n",
    "            db_h = delta_h\n",
    "\n",
    "            # Update\n",
    "            w1 -= lr * dw1\n",
    "            w2 -= lr * dw2\n",
    "            w3 -= lr * dw3\n",
    "            b_h -= lr * db_h\n",
    "            b_o -= lr * db_o\n",
    "        if epoch % 1 == 0:\n",
    "            print(f\"Epoch {epoch} | Loss {total_loss/n}\")\n",
    "    return (w1, w2, w3, b_h, b_o)"
   ]
  },
  {
   "cell_type": "code",
   "execution_count": 30,
   "id": "64907395",
   "metadata": {},
   "outputs": [],
   "source": [
    "from random import randint"
   ]
  },
  {
   "cell_type": "code",
   "execution_count": 31,
   "id": "674645d7",
   "metadata": {},
   "outputs": [],
   "source": [
    "x1 = [randint(0, 1000) for i in range(100)]\n",
    "x2 = [randint(0, 1000) for i in range(100)]\n",
    "y = [x1[i] + x2[i] for i in range(100)]"
   ]
  },
  {
   "cell_type": "code",
   "execution_count": 32,
   "id": "4d5ea408",
   "metadata": {},
   "outputs": [
    {
     "data": {
      "text/plain": [
       "([760, 934, 945, 567, 761],\n",
       " [608, 206, 65, 279, 256],\n",
       " [1368, 1140, 1010, 846, 1017])"
      ]
     },
     "execution_count": 32,
     "metadata": {},
     "output_type": "execute_result"
    }
   ],
   "source": [
    "x1[0:5], x2[0:5], y[0:5]"
   ]
  },
  {
   "cell_type": "code",
   "execution_count": 33,
   "id": "26a88c6c",
   "metadata": {},
   "outputs": [],
   "source": [
    "X = np.vstack((x1, x2)).T\n",
    "Y = np.array(y, dtype=float)"
   ]
  },
  {
   "cell_type": "code",
   "execution_count": 34,
   "id": "766993b6",
   "metadata": {},
   "outputs": [
    {
     "name": "stdout",
     "output_type": "stream",
     "text": [
      "Epoch 0 | Loss 1182535.1240821767\n",
      "Epoch 1 | Loss 996707.5645066747\n",
      "Epoch 2 | Loss nan\n",
      "Epoch 3 | Loss nan\n",
      "Epoch 4 | Loss nan\n",
      "Epoch 5 | Loss nan\n",
      "Epoch 6 | Loss nan\n",
      "Epoch 7 | Loss nan\n",
      "Epoch 8 | Loss nan\n",
      "Epoch 9 | Loss nan\n",
      "Trained params: (np.float64(nan), np.float64(nan), np.float64(nan), np.float64(nan), np.float64(nan))\n"
     ]
    },
    {
     "name": "stderr",
     "output_type": "stream",
     "text": [
      "C:\\Users\\bhada\\AppData\\Local\\Temp\\ipykernel_24920\\2405733008.py:3: RuntimeWarning: overflow encountered in exp\n",
      "  return 1/(1+np.exp(-x))\n",
      "C:\\Users\\bhada\\AppData\\Local\\Temp\\ipykernel_24920\\3291815655.py:4: RuntimeWarning: overflow encountered in scalar multiply\n",
      "  return x * (1 - x)\n",
      "C:\\Users\\bhada\\AppData\\Local\\Temp\\ipykernel_24920\\1576230483.py:29: RuntimeWarning: invalid value encountered in scalar subtract\n",
      "  w1 -= lr * dw1\n",
      "C:\\Users\\bhada\\AppData\\Local\\Temp\\ipykernel_24920\\1576230483.py:30: RuntimeWarning: invalid value encountered in scalar subtract\n",
      "  w2 -= lr * dw2\n",
      "C:\\Users\\bhada\\AppData\\Local\\Temp\\ipykernel_24920\\1576230483.py:32: RuntimeWarning: invalid value encountered in scalar subtract\n",
      "  b_h -= lr * db_h\n"
     ]
    }
   ],
   "source": [
    "params = train_single_node(X, Y, epochs=10, lr=0.001)\n",
    "print(\"Trained params:\", params)"
   ]
  },
  {
   "cell_type": "code",
   "execution_count": null,
   "id": "c48e5892",
   "metadata": {},
   "outputs": [],
   "source": []
  }
 ],
 "metadata": {
  "kernelspec": {
   "display_name": "Machinelearning",
   "language": "python",
   "name": "python3"
  },
  "language_info": {
   "codemirror_mode": {
    "name": "ipython",
    "version": 3
   },
   "file_extension": ".py",
   "mimetype": "text/x-python",
   "name": "python",
   "nbconvert_exporter": "python",
   "pygments_lexer": "ipython3",
   "version": "3.12.9"
  }
 },
 "nbformat": 4,
 "nbformat_minor": 5
}
