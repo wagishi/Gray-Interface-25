{
 "cells": [
  {
   "cell_type": "code",
   "execution_count": 5,
   "id": "149aaf45-e0e1-4a04-8c60-adeffb2ba28b",
   "metadata": {},
   "outputs": [],
   "source": [
    "import numpy as np"
   ]
  },
  {
   "cell_type": "code",
   "execution_count": 6,
   "id": "76402055-0204-4ae6-b262-c5d79eda38a1",
   "metadata": {},
   "outputs": [],
   "source": [
    "class SimpleAdd:\n",
    "    def __init__(self):\n",
    "        np.random.seed(42) \n",
    "\n",
    "        # Layer 1 \n",
    "        self.W1 = np.random.randn(4, 2)   # 4 hidden neurons and 2 inputs\n",
    "        self.b1 = np.random.randn(4, 1)   # bias for hidden neurons\n",
    "\n",
    "        # Layer 2 \n",
    "        self.W2 = np.random.randn(1, 4)   # 1 output neuron, 4 hidden inputs\n",
    "        self.b2 = np.random.randn(1, 1)   # output bias\n",
    "\n",
    "    def relu(self, z):\n",
    "        return np.maximum(0, z)\n",
    "\n",
    "    def forward(self, x):\n",
    "        \"\"\"\n",
    "        Forward pass \n",
    "        \"\"\"\n",
    "        # Hidden layer\n",
    "        z1 = np.dot(self.W1, x) + self.b1\n",
    "        a1 = self.relu(z1)\n",
    "\n",
    "        # Output layer \n",
    "        z2 = np.dot(self.W2, a1) + self.b2\n",
    "        output = z2\n",
    "\n",
    "        return output, (z1, a1, z2)\n"
   ]
  },
  {
   "cell_type": "code",
   "execution_count": 7,
   "id": "8e8e0687-dc49-4601-8150-dc5e3f0534e5",
   "metadata": {},
   "outputs": [
    {
     "name": "stdout",
     "output_type": "stream",
     "text": [
      "Input: [2 3]\n",
      "Predicted output: [-16.05348211]\n",
      "Internal values:\n",
      "z1 (before ReLU): [ 0.10916102  6.40702669 -1.63413531  4.99500006]\n",
      "a1 (after ReLU): [0.10916102 6.40702669 0.         4.99500006]\n",
      "z2 (final output): [-16.05348211]\n"
     ]
    }
   ],
   "source": [
    "net = SimpleAdd()\n",
    "\n",
    "#2 + 3\n",
    "x = np.array([[2], [3]]) \n",
    "y_pred, cache = net.forward(x)\n",
    "\n",
    "print(\"Input:\", x.ravel())\n",
    "print(\"Predicted output:\", y_pred.ravel())\n",
    "print(\"Internal values:\")\n",
    "print(\"z1 (before ReLU):\", cache[0].ravel())\n",
    "print(\"a1 (after ReLU):\", cache[1].ravel())\n",
    "print(\"z2 (final output):\", cache[2].ravel())"
   ]
  },
  {
   "cell_type": "code",
   "execution_count": null,
   "id": "67da6bc6-f9c8-4802-bded-00885334f699",
   "metadata": {},
   "outputs": [],
   "source": []
  }
 ],
 "metadata": {
  "kernelspec": {
   "display_name": "Python 3 (ipykernel)",
   "language": "python",
   "name": "python3"
  },
  "language_info": {
   "codemirror_mode": {
    "name": "ipython",
    "version": 3
   },
   "file_extension": ".py",
   "mimetype": "text/x-python",
   "name": "python",
   "nbconvert_exporter": "python",
   "pygments_lexer": "ipython3",
   "version": "3.12.7"
  }
 },
 "nbformat": 4,
 "nbformat_minor": 5
}
