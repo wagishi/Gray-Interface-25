{
  "nbformat": 4,
  "nbformat_minor": 0,
  "metadata": {
    "colab": {
      "provenance": []
    },
    "kernelspec": {
      "name": "python3",
      "display_name": "Python 3"
    },
    "language_info": {
      "name": "python"
    }
  },
  "cells": [
    {
      "cell_type": "code",
      "execution_count": 5,
      "metadata": {
        "id": "QngbGR3Ct3ZJ"
      },
      "outputs": [],
      "source": [
        "import numpy as np"
      ]
    },
    {
      "cell_type": "code",
      "source": [
        "np.random.seed(42)\n",
        "W1 = np.random.randn(2, 2) * 0.1\n",
        "b1 = np.zeros((1, 2))\n",
        "W2 = np.random.randn(2, 1) * 0.1\n",
        "b2 = np.zeros((1, 1))"
      ],
      "metadata": {
        "id": "o5Ou7MIwuBX9"
      },
      "execution_count": 6,
      "outputs": []
    },
    {
      "cell_type": "code",
      "source": [
        "def sigmoid(x):\n",
        "    return 1 / (1 + np.exp(-x))"
      ],
      "metadata": {
        "id": "XmlpkOXTuYRD"
      },
      "execution_count": 7,
      "outputs": []
    },
    {
      "cell_type": "code",
      "source": [
        "def forward_pass(x):\n",
        "    z1 = np.dot(x, W1) + b1\n",
        "    a1 = sigmoid(z1)\n",
        "\n",
        "    z2 = np.dot(a1, W2) + b2\n",
        "    output = z2\n",
        "\n",
        "    return output, a1\n"
      ],
      "metadata": {
        "id": "tBQ_63DTuic1"
      },
      "execution_count": 8,
      "outputs": []
    },
    {
      "cell_type": "code",
      "source": [
        "X = np.array([\n",
        "    [2, 3],   # 2+2 = 4\n",
        "    [3, 4],   # 3+4 = 7\n",
        "    [5, 7],   # 5+7 = 12\n",
        "    [10, 25]  # 10+15 = 25\n",
        "])"
      ],
      "metadata": {
        "id": "T-xphQ8hut-n"
      },
      "execution_count": 9,
      "outputs": []
    },
    {
      "cell_type": "code",
      "source": [
        "y = np.array([[5], [7], [12], [35]])"
      ],
      "metadata": {
        "id": "nS6Vnilkut7C"
      },
      "execution_count": 10,
      "outputs": []
    },
    {
      "cell_type": "code",
      "source": [
        "for i in range(len(X)):\n",
        "    pred, hidden = forward_pass(X[i].reshape(1, -1))\n",
        "    print(f\"Input: {X[i]}, Hidden: {hidden}, Prediction: {pred}, Target: {y[i]}\")\n"
      ],
      "metadata": {
        "colab": {
          "base_uri": "https://localhost:8080/"
        },
        "id": "nHL5kWnTut4g",
        "outputId": "99feeec5-eb92-4f83-91f3-6db03fb1d65a"
      },
      "execution_count": 11,
      "outputs": [
        {
          "output_type": "stream",
          "name": "stdout",
          "text": [
            "Input: [2 3], Hidden: [[0.57288933 0.60569602]], Prediction: [[-0.02759598]], Target: [5]\n",
            "Input: [3 4], Hidden: [[0.60062973 0.63823983]], Prediction: [[-0.0290075]], Target: [7]\n",
            "Input: [5 7], Hidden: [[0.66857323 0.73046612]], Prediction: [[-0.03275778]], Target: [12]\n",
            "Input: [10 25], Hidden: [[0.8924424  0.97513974]], Prediction: [[-0.04372847]], Target: [35]\n"
          ]
        }
      ]
    },
    {
      "cell_type": "code",
      "source": [],
      "metadata": {
        "id": "QkfYoq_cu3GJ"
      },
      "execution_count": 11,
      "outputs": []
    },
    {
      "cell_type": "code",
      "source": [],
      "metadata": {
        "id": "ef7Owgssu2_m"
      },
      "execution_count": 11,
      "outputs": []
    }
  ]
}